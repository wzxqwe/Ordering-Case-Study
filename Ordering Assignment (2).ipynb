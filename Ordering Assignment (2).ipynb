{
 "cells": [
  {
   "cell_type": "markdown",
   "metadata": {},
   "source": [
    "### Scenario:\n",
    "\n",
    "A supplier is shipping N different parts to Tesla.\n",
    "\n",
    "Every part has a known (deterministic) demand every day.  That is, we know how many parts we will need to build the cars scheduled for production that day.\n",
    "\n",
    "Each part comes in a box with a certain given quantity, and a certain known volume for the box.\n",
    "\n",
    "Parts are delivered in trucks. The truck cost is essentially fixed per truck, that is regardless of whether a truck is half full or completely full the cost is the same. For simplicity, we can model the truck has having a known max volume capacity, and the sum of the volumes of the parts in the truck has to be less than this capacity. (Obviously this is a simplification, in reality fitting the most number of boxes in a truck is a more complex problem)\n",
    "\n",
    "Unused parts from one day carry forward to the next day. We must never run out of a part completely, but other than that generally less inventory is preferred over more.\n",
    "\n",
    " \n",
    "Questions.\n",
    "\n",
    "1.       Formulate as a Mixed Integer Program the problem of ordering the right number of parts and scheduling the right number of trucks.\n",
    "\n",
    "2.       Discuss what are the key tradeoffs in this problem and how will different parameters influence the nature of the optimal solution."
   ]
  },
  {
   "cell_type": "markdown",
   "metadata": {},
   "source": [
    "#### Our Assumption:\n",
    "1. We order in boxes (in stead of quantity)\n",
    "2. For different part i, box is in different size, thus could has different quantity per box and different volume per box\n",
    "3. Different trucks could have different capacity and cost; there are a certain numer of trucks we can schedule from. \n",
    "##### (we can also assume box and trucks are identical, which would reduce model complexity but i think that's not reasonable in reality)\n"
   ]
  },
  {
   "cell_type": "markdown",
   "metadata": {},
   "source": [
    "## The model\n",
    "We can formulate the ordering problem as a cost minimization problem. \n",
    "Our objection would be to minimize total cost: cost of trucks plus cost of inventory.\n",
    "\n",
    "Such that:\n",
    "1. We don't run out of parts, for any parts in any given day\n",
    "2. We don't run out of truck capacity, for any orderd truck in any day\n",
    "3. Unused parts would carry forward to the next day\n",
    "\n",
    "\n",
    "\n",
    "### Variables:\n",
    "\n",
    "$X_{i,j}: \\text{Integer Variable: number of Box we order for part i on day j}\\\\$\n",
    "\n",
    "$Y_{j,k}: \\text{Binary Variable: if a Truck i is ordered on day j}\\\\$\n",
    "\n",
    "$Z_{i,j,k}: \\text{Integer Variable: number of Box we order for part i in day j, that is allocated in truck k}\\\\$\n",
    "\n",
    "$S_{i,j}: \\text{Contineous Variable: quantity of parts as inventory, for parts i at the end of Day j}\\\\$\n",
    "\n",
    "### Assume we are given:\n",
    "\n",
    "$Quantity_{i}: \\text{the quantity of parts in a box for part i}\\\\$\n",
    "\n",
    "$Volume_{i}: \\text{the box volume for part i}\\\\$\n",
    "\n",
    "$Capacity_{k}: \\text{max capacity for a truck k}\\\\$\n",
    "\n",
    "$Cost_{k}: \\text{cost of truck k for one task}\\\\$\n",
    "\n",
    "$Demand_{j,k}: \\text{the quantity demand of part i in day j}\\\\$\n",
    "\n",
    "\n",
    "\n",
    "### Goal: Minimize Trucks Cost (plus inventory cost )\n",
    "\n",
    "$min \\sum_{j=1}^{d}\\sum_{k=0}^{K}{TruckCost_{k}}{Y_{jk}} + \\sum_{i=0}^{N}\\sum_{j=0}^{d-1}{InventoryCost_{ij}}{s_{ij}}$\n",
    "\n",
    "\n",
    "### Constraints:\n",
    "\n",
    "#### 1. We don't run out of parts, for any parts in any given day\n",
    "    \n",
    "${X_{i,j} * {Quantity_{i}} + Inventory_{j-1} > Demand_{i,j} }, \\ \\forall i, \\forall j \\\\$ \n",
    "    \n",
    "#### 2. We don't run out of truck capacity, for any day, for any ordered Truck\n",
    "    \n",
    "$\\sum_{i\\in{PartsSet}} {Z_{i,j,k} * {BoxVolume_{i}} < TruckVolume_{k} }, \\ \\forall j, \\forall k \\\\$ \n",
    "\n",
    "#### 3. Unused parts would carry forward to the next day, and we want set inventory below a certain amount\n",
    "    \n",
    "${Inventory_{i,0} = InitInventory}, \\ j=0 \\\\$\n",
    "\n",
    "${Inventory_{i,j-1} = X_{i,j-1} * Quantity_{i} + Inventory_{i,j-2} - Demand_{i,j-1} }, \\ \\forall {j\\in {2,3,4,5,...d} }\\\\$ \n",
    "#### 4. Keep Inventory low\n",
    "${Inventory_{i,j} <= MaxInventory }, \\ \\forall {j\\in {0,1,2,3,4,5,...d} }\\\\$ \n",
    "    \n",
    "    (or in another way, add inventory as a cost into our objective function)\n",
    "\n",
    "\n",
    "#### 5. Ordered boxes equal to transported boxes by summing across all ordered trucks\n",
    "${\\sum_{k=0}^{K}{Z_{i.j,k}} == X_{i,j}, \\ \\forall {i,j} }\\\\$ \n",
    "\n",
    "\n",
    "\n",
    "#### 6. If any box is allocated in a truck, we must order that truck\n",
    "${Y_{i,j} * Big_M >= Z_{i,j,k} }, \\ \\forall {i,j,k }\\\\$ \n",
    "\n",
    "            "
   ]
  },
  {
   "cell_type": "markdown",
   "metadata": {},
   "source": [
    "#### Next We can formulate and solve the problem for a demo"
   ]
  },
  {
   "cell_type": "code",
   "execution_count": 30,
   "metadata": {
    "collapsed": true
   },
   "outputs": [],
   "source": [
    "# used packages\n",
    "# use GLPK as a mip solver\n",
    "from pulp import *\n",
    "import pandas as pd\n",
    "import numpy as np\n",
    "import matplotlib.pyplot as plt\n",
    "import seaborn as sn\n",
    "import random\n",
    "\n",
    "%matplotlib inline"
   ]
  },
  {
   "cell_type": "code",
   "execution_count": 53,
   "metadata": {
    "collapsed": true
   },
   "outputs": [],
   "source": [
    "# Init some parameters\n",
    "\n",
    "## for example say we have 20 different parts\n",
    "num_part_type = 20\n",
    "## we can order from 5 trucks\n",
    "num_truck = 5\n",
    "## we can add a inventory cost to measure inventory\n",
    "## notice there is a trade off between inventory cost and truck cost\n",
    "inventory_cost = 100\n",
    "## we make a ording plan, for example, Monday to Friday day in next week\n",
    "plan_range = range(1,6)\n",
    "## a big m helper for binary indicator\n",
    "Big_M = 9999999"
   ]
  },
  {
   "cell_type": "code",
   "execution_count": 54,
   "metadata": {
    "collapsed": false
   },
   "outputs": [],
   "source": [
    "# init some data for the problem\n",
    "PartsList = ['Part' + str(i) for i in range(num_part_type)] \n",
    "TrucksList = ['Truck' + str(i) for i in range(num_truck)] \n",
    "BoxQuantityPerPart= ['BoxQuantityPerPart' + str(i) for i in range(num_part_type)] \n",
    "BoxVolumePerPart = ['BoxVolumePerPart' + str(i) for i in range(num_part_type)] \n",
    "\n",
    "# quantity of parts in each box, for part i\n",
    "QuantityDict = {}\n",
    "for part in PartsList:\n",
    "    QuantityDict[part] = random.randint(5,10)\n",
    "\n",
    "# volume of box, for part i  \n",
    "VolumeDict = {}\n",
    "for part in PartsList:\n",
    "    VolumeDict[part] = random.randint(15,20)\n",
    "    \n",
    "# capacity of truck, for each different truck    \n",
    "CapacityDict = {}\n",
    "for truck in TrucksList:\n",
    "    CapacityDict[truck] = random.randint(1500,2000)\n",
    "    \n",
    "# cost of truck, for each different truck    \n",
    "CostDict = {}\n",
    "for truck in TrucksList:\n",
    "    CostDict[truck] =random.randint(2000,5000)\n",
    "    \n",
    "# demand of parts i, on day j, in quantity\n",
    "DemandDict = {}\n",
    "for part in PartsList:\n",
    "    for day in plan_range:\n",
    "        DemandDict[part,day] = random.randint(60,80)\n",
    "\n",
    "#initally we set there is no inventory \n",
    "#we'll update it as we computing optimal\n",
    "InventoryDict = {}\n",
    "for part in PartsList:\n",
    "    for day in (plan_range):\n",
    "        InventoryDict[part,day] = 0"
   ]
  },
  {
   "cell_type": "markdown",
   "metadata": {},
   "source": [
    "### Formulate Problem"
   ]
  },
  {
   "cell_type": "code",
   "execution_count": 55,
   "metadata": {
    "collapsed": true
   },
   "outputs": [],
   "source": [
    "#create the problme\n",
    "prob=LpProblem(\"Ordering\", LpMinimize)"
   ]
  },
  {
   "cell_type": "markdown",
   "metadata": {},
   "source": [
    "### Declare Variables"
   ]
  },
  {
   "cell_type": "code",
   "execution_count": 56,
   "metadata": {
    "collapsed": false
   },
   "outputs": [],
   "source": [
    "\n",
    "#Decision Variable x: integer variable - number of boxes we order for part i in day j\n",
    "x = pulp.LpVariable.dicts(\"PartOrder\",( (i,j) for i in PartsList for j in plan_range ),lowBound=0, cat=LpInteger)\n",
    "\n",
    "#Decision Variable y: integer variable - number of trucks we order for day j\n",
    "y = pulp.LpVariable.dicts(\"TruckOrder\",( (j,k) for j in plan_range for k in TrucksList ), 0, 1, cat=LpBinary)\n",
    "\n",
    "#Auxilliary Variable y: a integer variable to track number of boxes of part i, ordered on day j, delivered in truck k\n",
    "z = pulp.LpVariable.dicts(\"PartInTruck\",((i, j, k) for i in PartsList \n",
    "                                         for j in plan_range \n",
    "                                         for k in TrucksList ),lowBound = 0, cat=LpInteger)\n",
    "\n",
    "#Auxilliary Variable i: A contineous variable to track Inventory for part i on day j, in the unity of quantity\n",
    "s = pulp.LpVariable.dicts(\"Inventory\",( (i,j) for i in PartsList for j in [0] + [temp for temp in plan_range] ),lowBound=0, cat=LpContinuous)"
   ]
  },
  {
   "cell_type": "markdown",
   "metadata": {},
   "source": [
    "### Write Our Objective Function"
   ]
  },
  {
   "cell_type": "code",
   "execution_count": 57,
   "metadata": {
    "collapsed": false,
    "scrolled": true
   },
   "outputs": [],
   "source": [
    "#obj # Minimize total cost under constriants\n",
    "prob += lpSum(y[(j,k)]*CostDict[k] for j in plan_range for k in TrucksList) +\\\n",
    "        lpSum(InventoryDict[(i,j)]*inventory_cost for i in PartsList for j in plan_range)"
   ]
  },
  {
   "cell_type": "markdown",
   "metadata": {},
   "source": [
    "### Write Our Constriants"
   ]
  },
  {
   "cell_type": "code",
   "execution_count": 58,
   "metadata": {
    "collapsed": false
   },
   "outputs": [],
   "source": [
    "# [constriant] - Order+Inventory > Demand\n",
    "## for each part i on each given day j, our new order quantity+Inventory quantity must be greater than demand[i,j]\n",
    "for i in PartsList:\n",
    "    for j in plan_range:\n",
    "        # for the first day, we can set the initial inventory to 0 or any inventory level we have\n",
    "        if j ==1:\n",
    "            InventoryDict[i,0]=0 \n",
    "        else:\n",
    "            #update inventory level from previous day: inventory = Ordered - Used\n",
    "            InventoryDict[i,j-1] = x[i,j-1]*QuantityDict[i] + InventoryDict[i,j-2] - DemandDict[i,j-1]\n",
    "            \n",
    "        prob += (x[i,j]*QuantityDict[i]) + InventoryDict[i,j-1]  >= DemandDict[i,j]\n",
    "        prob += s[i,j-1] == InventoryDict[i,j-1]\n",
    "\n",
    "# [constriant] - keep inventory low\n",
    "#for i in PartsList:\n",
    "#    for j in plan_range:\n",
    "#        prob += InventoryDict[i,j] <= 10\n",
    "        \n",
    "# [constriant] - sum of Box Volume in one truck <= Truck Capacity\n",
    "## for each day, for each truck, the sum of box volume(in that truck) should be less than the capacity\n",
    "for j in plan_range:\n",
    "    for k in TrucksList:\n",
    "        prob += lpSum(z[(i,j,k)]*VolumeDict[i] for i in PartsList) <= CapacityDict[k]\n",
    "\n",
    "# [constriant] - all ordered parts should be trasported by truck on that day\n",
    "for i in PartsList:\n",
    "    for j in plan_range:\n",
    "        prob += lpSum(z[(i,j,k)] for k in TrucksList) == x[i,j]\n",
    "        \n",
    "        \n",
    "# [constriant] - if any box allocated in a truck, we must order that truck\n",
    "for i in PartsList:\n",
    "    for j in plan_range:\n",
    "        for k in TrucksList:\n",
    "            prob +=y[j,k]*Big_M >= z[i,j,k]"
   ]
  },
  {
   "cell_type": "markdown",
   "metadata": {
    "collapsed": false
   },
   "source": [
    "#### Next we can solve the MIP and get a optimal solution "
   ]
  },
  {
   "cell_type": "code",
   "execution_count": 59,
   "metadata": {
    "collapsed": false
   },
   "outputs": [
    {
     "name": "stdout",
     "output_type": "stream",
     "text": [
      "Wall time: 2min 53s\n",
      "Optimal\n"
     ]
    }
   ],
   "source": [
    "\n",
    "#%time prob.solve(GLPK(options=['--mipgap', '0.01']))\n",
    "%time prob.solve()\n",
    "print(LpStatus[prob.status])"
   ]
  },
  {
   "cell_type": "code",
   "execution_count": 60,
   "metadata": {
    "collapsed": false,
    "scrolled": true
   },
   "outputs": [],
   "source": [
    "varsdict = {}\n",
    "for v in prob.variables():\n",
    "    varsdict[v.name] = v.varValue\n",
    "#varsdict"
   ]
  },
  {
   "cell_type": "markdown",
   "metadata": {
    "collapsed": false,
    "scrolled": true
   },
   "source": [
    "#### Next we parse optimal solution to validate model&result"
   ]
  },
  {
   "cell_type": "code",
   "execution_count": 61,
   "metadata": {
    "collapsed": false,
    "scrolled": true
   },
   "outputs": [],
   "source": [
    "result_inventory_dict = {}\n",
    "result_order_dict = {}\n",
    "result_truck_alloc_dict ={}\n",
    "resulst_truck_order_dict = {}\n",
    "for k,v in varsdict.items():\n",
    "    if 'Inventory' in k:\n",
    "        result_inventory_dict [k.split('_')[1][2:-2], int(k.split('_')[2][0]) ]= v\n",
    "    if 'PartOrder' in k:\n",
    "        result_order_dict [k.split('_')[1][2:-2], int(k.split('_')[2][0]) ]= v\n",
    "    if 'PartInTruck' in k:\n",
    "        result_truck_alloc_dict [k.split('_')[1][2:-2], int(k.split('_')[2][0]), k.split('_')[3][1:-2] ]= v\n",
    "    if 'TruckOrder' in k:\n",
    "        resulst_truck_order_dict [int(k.split('_')[1][1]), k.split('_')[2][1:-2] ]= v\n"
   ]
  },
  {
   "cell_type": "code",
   "execution_count": 62,
   "metadata": {
    "collapsed": false,
    "scrolled": false
   },
   "outputs": [
    {
     "data": {
      "text/plain": [
       "{(1, 'Truck0'): 1.0,\n",
       " (1, 'Truck1'): 0.0,\n",
       " (1, 'Truck2'): 1.0,\n",
       " (1, 'Truck3'): 0.0,\n",
       " (1, 'Truck4'): 0.0,\n",
       " (2, 'Truck0'): 1.0,\n",
       " (2, 'Truck1'): 0.0,\n",
       " (2, 'Truck2'): 1.0,\n",
       " (2, 'Truck3'): 0.0,\n",
       " (2, 'Truck4'): 0.0,\n",
       " (3, 'Truck0'): 1.0,\n",
       " (3, 'Truck1'): 0.0,\n",
       " (3, 'Truck2'): 1.0,\n",
       " (3, 'Truck3'): 0.0,\n",
       " (3, 'Truck4'): 0.0,\n",
       " (4, 'Truck0'): 1.0,\n",
       " (4, 'Truck1'): 0.0,\n",
       " (4, 'Truck2'): 1.0,\n",
       " (4, 'Truck3'): 0.0,\n",
       " (4, 'Truck4'): 0.0,\n",
       " (5, 'Truck0'): 1.0,\n",
       " (5, 'Truck1'): 0.0,\n",
       " (5, 'Truck2'): 1.0,\n",
       " (5, 'Truck3'): 0.0,\n",
       " (5, 'Truck4'): 0.0}"
      ]
     },
     "execution_count": 62,
     "metadata": {},
     "output_type": "execute_result"
    }
   ],
   "source": [
    "resulst_truck_order_dict"
   ]
  },
  {
   "cell_type": "code",
   "execution_count": 63,
   "metadata": {
    "collapsed": false,
    "scrolled": true
   },
   "outputs": [],
   "source": [
    "# check currentOrder + inventory > Demand\n",
    "for part in PartsList:\n",
    "    for day in plan_range:\n",
    "        if not (result_order_dict[part, day]*VolumeDict[part] + result_inventory_dict[part,day-1] >= DemandDict[part,day]):\n",
    "            print('we run out of inventory, something is wrong!')\n"
   ]
  },
  {
   "cell_type": "code",
   "execution_count": 64,
   "metadata": {
    "collapsed": false,
    "scrolled": true
   },
   "outputs": [
    {
     "name": "stdout",
     "output_type": "stream",
     "text": [
      "unused capacity for day 1 Truck0\n",
      "17.0\n",
      "unused capacity for day 1 Truck2\n",
      "89.0\n",
      "unused capacity for day 2 Truck0\n",
      "11.0\n",
      "unused capacity for day 2 Truck2\n",
      "1.0\n",
      "unused capacity for day 3 Truck0\n",
      "267.0\n",
      "unused capacity for day 3 Truck2\n",
      "116.0\n",
      "unused capacity for day 4 Truck0\n",
      "11.0\n",
      "unused capacity for day 4 Truck2\n",
      "2.0\n",
      "unused capacity for day 5 Truck0\n",
      "17.0\n",
      "unused capacity for day 5 Truck2\n",
      "2.0\n"
     ]
    }
   ],
   "source": [
    "# check remaining space on trucks\n",
    "\n",
    "for day in plan_range:\n",
    "    for truck in TrucksList:\n",
    "        ordered_vol = 0\n",
    "        for part in PartsList:\n",
    "            ordered_vol += result_truck_alloc_dict[part,day,truck]*VolumeDict[part]\n",
    "        # if a truck is used on one day, check remaning capacity is bigger than 0\n",
    "        if resulst_truck_order_dict[day,truck] == 1:\n",
    "            print('unused capacity for day '+ str(day) + ' '+str(truck))\n",
    "            print(CapacityDict[truck] - ordered_vol)\n",
    "        # in a truck is not used, remaining capacity should be max capacity\n",
    "        else:\n",
    "            if not (CapacityDict[truck] - ordered_box*VolumeDict[part] == CapacityDict[truck]):\n",
    "                print('truck capacity constraint invalid')"
   ]
  },
  {
   "cell_type": "markdown",
   "metadata": {},
   "source": [
    "#### Key Trade offs and Parameter Effects\n",
    "\n",
    "##### 1. Trade off between model complexity and computing time:\n",
    "    \n",
    "    Here we assume all parts and trucks are different, I.e. for different parts, the quantity in a box and volume of the box are different and for a truck, the cost and capacity of truck can vary. Such kinds of assumption could reflect complex real business cases but would require a longer computing time for optimal. Because basically the solver would have to run for all the combination of box-truck allocation.\n",
    "\n",
    "    However, if we assume all parts are shifted in the same size box with same quantity, and all trucks in the market are identical in capacity and cost, we can quickly reduce model complexity. But such kinds of naive assumption may fail to model reality.\n",
    "    \n",
    "    Our model complexity depend on number of parts, number of trucks, and optimal schedule lenth.\n",
    "\n"
   ]
  },
  {
   "cell_type": "markdown",
   "metadata": {},
   "source": [
    "##### 2. Trade off between truck's tranporting cost and inventory cost:\n",
    "    \n",
    "    We notice there are two optmizing component in the problem: to minimize truck's cost and minimize inventory cost. Tradeoff here would be: if the truck cost is relatively high, our model would tent to use truck's capacity as much as possible, and allow a larger inventory; take a extreme case as an example, if we don't have a inventory cost, the model would useup all capacity and allow inventory for multiple following days.\n",
    "    \n",
    "    While if inventory cost is relatively high, our model would tend to solve for a solution that keep inventory low but allow some waste space in ordered truck."
   ]
  },
  {
   "cell_type": "markdown",
   "metadata": {},
   "source": [
    "##### 3. Parameter's effect\n",
    "\n",
    "    Number of parts, number of different trucks, number of different boxes are some important parameters in our problem. While it's generally hard to measure the complexity of a MIP, more variables usually make the problem harder to solve. For example, if we are using a branch and cut algorithm, we would have to do a N choose K hyperplane cut to tight the linear relaxiation, which would quickly increase solving time as N becomes larger. \n",
    "    \n",
    "    Other parameters like Quantity of boxes, Volume of boxes, cost of truck, capacity of truck would also affect optimal solution. For example, if all boxes are relatively large for the truck, it would be hard to squeeze many boxes into one truck, thus our optimal solution will inevitablly have many trucks that have extra unused capacity, and we cannot find any box to fit in. While on the other hand, if there exist some boxes that are relatively small, we would be more efficient in using up truck capacity and thus reduce total truck cost. \n",
    "    \n",
    "    Different kinds of scenarials could happen in reality, and we can take a further step after computing a optimal solution. For example, if we find our optmal solution indeed has a lot of unused capacity in trucks, we could propose to shift parts in some smaller boxes and smaller quantities, which might help to reduce overall cost. (essntially this is we are trying to relax some constriants to get a better objective value)"
   ]
  }
 ],
 "metadata": {
  "anaconda-cloud": {},
  "kernelspec": {
   "display_name": "Python [Root]",
   "language": "python",
   "name": "Python [Root]"
  },
  "language_info": {
   "codemirror_mode": {
    "name": "ipython",
    "version": 3
   },
   "file_extension": ".py",
   "mimetype": "text/x-python",
   "name": "python",
   "nbconvert_exporter": "python",
   "pygments_lexer": "ipython3",
   "version": "3.5.2"
  }
 },
 "nbformat": 4,
 "nbformat_minor": 0
}
